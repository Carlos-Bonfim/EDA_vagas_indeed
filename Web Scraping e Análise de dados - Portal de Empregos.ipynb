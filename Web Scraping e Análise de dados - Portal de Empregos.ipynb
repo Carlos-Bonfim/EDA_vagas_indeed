{
 "cells": [
  {
   "cell_type": "markdown",
   "metadata": {},
   "source": [
    "# Análise de dados de vagas de emprego"
   ]
  },
  {
   "cell_type": "markdown",
   "metadata": {},
   "source": [
    "Agora, nesta etapa do projeto será realizado, após o `scrapping` em um dos maiores portais de vagas do Brasil, o indeed, vamos analisar os dados, extraindo insights e teremos uma aplicação de `Processamento de Linguagem Natural`."
   ]
  },
  {
   "cell_type": "markdown",
   "metadata": {},
   "source": [
    "## Importando os pacotes"
   ]
  },
  {
   "cell_type": "markdown",
   "metadata": {},
   "source": [
    "Os pacotes a serem utilizados serão:\n",
    "- `numpy` e `pandas` para manipulação de dados\n",
    "- `matplotlib` e `seaborn` para visualização de dados\n",
    "- `NLTK` para *Processamento de Linguagem Natural*"
   ]
  },
  {
   "cell_type": "code",
   "execution_count": 1,
   "metadata": {},
   "outputs": [],
   "source": [
    "# Importando os pacotes\n",
    "import numpy as np\n",
    "import pandas as pd\n",
    "import matplotlib\n",
    "import matplotlib.pyplot as plt\n",
    "import seaborn as sns\n",
    "from collections import Counter\n",
    "\n",
    "import nltk\n",
    "from nltk import word_tokenize\n",
    "from nltk.corpus import stopwords\n",
    "# nltk.download()\n",
    "\n",
    "%matplotlib inline"
   ]
  },
  {
   "cell_type": "markdown",
   "metadata": {},
   "source": [
    "## Web Scraping"
   ]
  },
  {
   "cell_type": "markdown",
   "metadata": {},
   "source": [
    "O código para `scraping` está em outro arquivo neste mesmo repositório. Neste `notebook` vamos fazer a **Análise exploratória** com os dados coletados."
   ]
  },
  {
   "cell_type": "markdown",
   "metadata": {},
   "source": [
    "## Dicionário dos dados"
   ]
  },
  {
   "cell_type": "markdown",
   "metadata": {},
   "source": [
    "`Título` é a nome da vaga oferecida.\n",
    "\n",
    "`Localidade` é o local de onde a vaga está sendo oferecida.\n",
    "\n",
    "`Empresa` é o nome da Empresa.\n",
    "\n",
    "`Classificação` é a nota de avaliação da Empresa.\n",
    "\n",
    "`Salário` é o salário base oferecido na vaga.\n",
    "\n",
    "`Dias_publicado` é a quantidade de dias passados desde a publicação.\n",
    "\n",
    "`Tipo_Pesquisa` se orgânica ou paga.\n",
    "\n",
    "`Desc` é a descrição da vaga.\n",
    "\n",
    "`Termo_pesq` são os termos pesquisados que resultaram nas respectivas vagas."
   ]
  },
  {
   "cell_type": "markdown",
   "metadata": {},
   "source": [
    "## Análise de dados"
   ]
  },
  {
   "cell_type": "markdown",
   "metadata": {},
   "source": [
    "Análise de dados é um processo de *inspeção*, *limpeza*, *transformação* e *modelagem* dos dados com o objetivo de gerar `insights` para conclusões e tomadas de decisão.<br>\n",
    "Estima-se que de **70% à 80%** do tempo em um projeto de `Machine Learning` são gastos nessa etapa."
   ]
  },
  {
   "cell_type": "markdown",
   "metadata": {},
   "source": [
    "Vamos iniciar carregando nosso *dataset* que salvamos em disco."
   ]
  },
  {
   "cell_type": "code",
   "execution_count": 2,
   "metadata": {},
   "outputs": [],
   "source": [
    "# carregando o dataset\n",
    "df = pd.read_csv('resultado/dados.csv', encoding='utf-8', index_col=0)"
   ]
  },
  {
   "cell_type": "markdown",
   "metadata": {},
   "source": [
    "Vamos dar uma olhada nas primeiras 3 linhas para ter uma primeira visão da *conjunto de dados*."
   ]
  },
  {
   "cell_type": "code",
   "execution_count": 3,
   "metadata": {},
   "outputs": [
    {
     "data": {
      "text/html": [
       "<div>\n",
       "<style scoped>\n",
       "    .dataframe tbody tr th:only-of-type {\n",
       "        vertical-align: middle;\n",
       "    }\n",
       "\n",
       "    .dataframe tbody tr th {\n",
       "        vertical-align: top;\n",
       "    }\n",
       "\n",
       "    .dataframe thead th {\n",
       "        text-align: right;\n",
       "    }\n",
       "</style>\n",
       "<table border=\"1\" class=\"dataframe\">\n",
       "  <thead>\n",
       "    <tr style=\"text-align: right;\">\n",
       "      <th></th>\n",
       "      <th>Titulo</th>\n",
       "      <th>Localidade</th>\n",
       "      <th>Empresa</th>\n",
       "      <th>Classificacao</th>\n",
       "      <th>Salario</th>\n",
       "      <th>Dias_publicado</th>\n",
       "      <th>Tipo_Pesquisa</th>\n",
       "      <th>Desc</th>\n",
       "      <th>Termo_pesq</th>\n",
       "    </tr>\n",
       "  </thead>\n",
       "  <tbody>\n",
       "    <tr>\n",
       "      <th>0</th>\n",
       "      <td>Cardiology/Oncology Clinical Research Associate</td>\n",
       "      <td>Zona Sul de São Paulo, SP</td>\n",
       "      <td>Atlantis Clinical Brazil</td>\n",
       "      <td>None</td>\n",
       "      <td>None</td>\n",
       "      <td>há 2 dias</td>\n",
       "      <td>Organic</td>\n",
       "      <td>Atlantis Clinical is an American niche Clinica...</td>\n",
       "      <td>data+science</td>\n",
       "    </tr>\n",
       "    <tr>\n",
       "      <th>1</th>\n",
       "      <td>Data Analyst Equity - São Paulo</td>\n",
       "      <td>São Paulo, SP</td>\n",
       "      <td>Bloomberg</td>\n",
       "      <td>3,9</td>\n",
       "      <td>None</td>\n",
       "      <td>Há mais de 30 dias</td>\n",
       "      <td>Organic</td>\n",
       "      <td>Bloomberg runs on data. In Global Data, we're ...</td>\n",
       "      <td>data+science</td>\n",
       "    </tr>\n",
       "    <tr>\n",
       "      <th>2</th>\n",
       "      <td>Data Engineer Junior</td>\n",
       "      <td>São José dos Campos, SP</td>\n",
       "      <td>Quero Educação</td>\n",
       "      <td>3,5</td>\n",
       "      <td>None</td>\n",
       "      <td>Recém publicada</td>\n",
       "      <td>Organic</td>\n",
       "      <td>O time de Data Engineering é responsável por g...</td>\n",
       "      <td>data+science</td>\n",
       "    </tr>\n",
       "  </tbody>\n",
       "</table>\n",
       "</div>"
      ],
      "text/plain": [
       "                                            Titulo                 Localidade  \\\n",
       "0  Cardiology/Oncology Clinical Research Associate  Zona Sul de São Paulo, SP   \n",
       "1                  Data Analyst Equity - São Paulo              São Paulo, SP   \n",
       "2                             Data Engineer Junior    São José dos Campos, SP   \n",
       "\n",
       "                    Empresa Classificacao Salario      Dias_publicado  \\\n",
       "0  Atlantis Clinical Brazil          None    None           há 2 dias   \n",
       "1                 Bloomberg           3,9    None  Há mais de 30 dias   \n",
       "2            Quero Educação           3,5    None     Recém publicada   \n",
       "\n",
       "  Tipo_Pesquisa                                               Desc  \\\n",
       "0       Organic  Atlantis Clinical is an American niche Clinica...   \n",
       "1       Organic  Bloomberg runs on data. In Global Data, we're ...   \n",
       "2       Organic  O time de Data Engineering é responsável por g...   \n",
       "\n",
       "     Termo_pesq  \n",
       "0  data+science  \n",
       "1  data+science  \n",
       "2  data+science  "
      ]
     },
     "execution_count": 3,
     "metadata": {},
     "output_type": "execute_result"
    }
   ],
   "source": [
    "# visualizando as primeiras linhas\n",
    "df.head(3)"
   ]
  },
  {
   "cell_type": "markdown",
   "metadata": {},
   "source": [
    "Importante saber a dimensão, quantidade de linhas e colunas do dataframe."
   ]
  },
  {
   "cell_type": "code",
   "execution_count": 4,
   "metadata": {},
   "outputs": [
    {
     "data": {
      "text/plain": [
       "(3150, 9)"
      ]
     },
     "execution_count": 4,
     "metadata": {},
     "output_type": "execute_result"
    }
   ],
   "source": [
    "# Visualizando as dimensões\n",
    "df.shape"
   ]
  },
  {
   "cell_type": "markdown",
   "metadata": {},
   "source": [
    "Huuumm!! Tem muitas linhas, porém, na construção do *scraper* observamos que algumas vagas duplicam durante as buscas, então vamos remover essas linhas duplicadas com o método `drop.duplicates()`."
   ]
  },
  {
   "cell_type": "code",
   "execution_count": 5,
   "metadata": {},
   "outputs": [
    {
     "data": {
      "text/plain": [
       "(595, 9)"
      ]
     },
     "execution_count": 5,
     "metadata": {},
     "output_type": "execute_result"
    }
   ],
   "source": [
    "# removendo as linhas duplicadas\n",
    "df = df.drop_duplicates()\n",
    "\n",
    "# resetando o index para ficar na sequencia\n",
    "df.reset_index(drop=True, inplace=True)\n",
    "\n",
    "# visualizando o shape do resultado\n",
    "df.shape"
   ]
  },
  {
   "cell_type": "markdown",
   "metadata": {},
   "source": [
    "Reduziu consideravelmente, mas vamos analisar assim mesmo."
   ]
  },
  {
   "cell_type": "markdown",
   "metadata": {},
   "source": [
    "Então vamos `definir algumas perguntas` para responder e seguir para **analisar nossos dados**.\n",
    "\n",
    "\n",
    "**Obs.:** O `scraping` foi realizado com **seis termos** para buscas (*data science*, *business intelligence*, *machine learning*, *analista bi*, *cientista dados*, *analista dados*), com as primeiras 20 páginas de cada termo e cada página com 15 anúncios cada, no dia **23/07/2020**."
   ]
  },
  {
   "cell_type": "markdown",
   "metadata": {},
   "source": [
    "### 1. Quantas vagas foram retornadas por termos da pesquisa?"
   ]
  },
  {
   "cell_type": "markdown",
   "metadata": {},
   "source": [
    "Foram pesquisados seis termos, então podemos usar o método `value_counts()` para saber."
   ]
  },
  {
   "cell_type": "code",
   "execution_count": 6,
   "metadata": {},
   "outputs": [
    {
     "data": {
      "text/plain": [
       "analista+dados           110\n",
       "machine+learning         109\n",
       "data+science             103\n",
       "analista+bi               98\n",
       "business+intelligence     94\n",
       "cientista+dados           81\n",
       "Name: Termo_pesq, dtype: int64"
      ]
     },
     "execution_count": 6,
     "metadata": {},
     "output_type": "execute_result"
    }
   ],
   "source": [
    "# verificando a quantidade por termo\n",
    "df.Termo_pesq.value_counts()"
   ]
  },
  {
   "cell_type": "markdown",
   "metadata": {},
   "source": [
    "Nesta amostra, resultaram mais vagas para as buscas de **Analista de dados**."
   ]
  },
  {
   "cell_type": "markdown",
   "metadata": {},
   "source": [
    "### 2. Qual o tipo de vaga mostrado na pesquisa, orgânica ou patrocinada?"
   ]
  },
  {
   "cell_type": "markdown",
   "metadata": {},
   "source": [
    "Vamos definir os tipos `orgânica` e `patrocinada` antes de prosseguir, de forma bem resumida:\n",
    "- **Publicação Organica:** São todas as pessoas que visualizam e interagem com as publicações de forma gratuita.\n",
    "- **Publicação patrocinada:** É quando há um investimento para um anúncio ou publicação específica para mais pessoas."
   ]
  },
  {
   "cell_type": "code",
   "execution_count": 7,
   "metadata": {},
   "outputs": [
    {
     "data": {
      "text/plain": [
       "Organic    595\n",
       "Name: Tipo_Pesquisa, dtype: int64"
      ]
     },
     "execution_count": 7,
     "metadata": {},
     "output_type": "execute_result"
    }
   ],
   "source": [
    "# contando o total de registros por valor da coluna \"Tipo_Pesquisa\"\n",
    "df['Tipo_Pesquisa'].value_counts()"
   ]
  },
  {
   "cell_type": "markdown",
   "metadata": {},
   "source": [
    "Podemos ver que neste *scraping* só retornaram vagas do tipo `orgânica`."
   ]
  },
  {
   "cell_type": "markdown",
   "metadata": {},
   "source": [
    "### 3. Quantas empresas anunciaram e qual tem o maior número de vagas pesquisadas?"
   ]
  },
  {
   "cell_type": "markdown",
   "metadata": {},
   "source": [
    "Para sabermos a quantidade de empresas, devemos tirar os **valores duplicados** da coluna **Empresa** e vamos fazer isso com o método `unique()` dentro da função `len`."
   ]
  },
  {
   "cell_type": "code",
   "execution_count": 8,
   "metadata": {},
   "outputs": [
    {
     "name": "stdout",
     "output_type": "stream",
     "text": [
      "Quantidade de empresas anunciantes: 325\n"
     ]
    }
   ],
   "source": [
    "# criando um objeto contando as empresas unicas no dataframe\n",
    "qtde_empresas = len(df['Empresa'].unique())\n",
    "\n",
    "# exibindo a quantidade\n",
    "print(f'Quantidade de empresas anunciantes: {qtde_empresas}')"
   ]
  },
  {
   "cell_type": "markdown",
   "metadata": {},
   "source": [
    "Para saber qual ou quais empresas com os maiores números de vagas, vamos agrupar a coluna **Empresa**, utilizando o método `groupby`."
   ]
  },
  {
   "cell_type": "code",
   "execution_count": 9,
   "metadata": {},
   "outputs": [
    {
     "data": {
      "text/plain": [
       "Empresa\n",
       "Inovation IT Premium Outsourcing    15\n",
       "PicPay                              11\n",
       "Keyrus                              11\n",
       "Grupo Globo                          9\n",
       "Vivo (Telefônica Brasil)             9\n",
       "Ambev                                8\n",
       "ViaVarejo                            7\n",
       "IQVIA                                7\n",
       "SiDi                                 7\n",
       "INSTITUTO ATLANTICO                  7\n",
       "Carreiras Afya Educacional           7\n",
       "Samsung Electronics                  6\n",
       "BR Distribuidora                     6\n",
       "None                                 5\n",
       "Eldorado                             5\n",
       "YDUQS                                5\n",
       "Loadsmart                            5\n",
       "Pmweb                                5\n",
       "marketdata                           5\n",
       "Quero Educação                       4\n",
       "Name: Titulo, dtype: int64"
      ]
     },
     "execution_count": 9,
     "metadata": {},
     "output_type": "execute_result"
    }
   ],
   "source": [
    "# criando o objeto para agrupamento\n",
    "grupo_emp = df.groupby(['Empresa']).count()['Titulo'].sort_values(ascending=False)\n",
    "\n",
    "# visualizando o agrupamento das 20 primeiras\n",
    "grupo_emp.head(20)"
   ]
  },
  {
   "cell_type": "markdown",
   "metadata": {},
   "source": [
    "Vimos que nesta análise contém **325 empresas** e a empresa com maior número de vagas tem **15 vagas** anunciadas. Só por curiosidade, quais são essas 15 vagas?"
   ]
  },
  {
   "cell_type": "code",
   "execution_count": 10,
   "metadata": {},
   "outputs": [
    {
     "data": {
      "text/plain": [
       "['Consultor Power BI Sênior',\n",
       " 'Analista Power BI Pleno',\n",
       " 'Analista BI Pleno - Power Center',\n",
       " 'Analista BI - ETL/PowerBI',\n",
       " 'Data Scientist',\n",
       " 'Cientista de Dados ( Junior , Pleno e Sênior )',\n",
       " 'Analista Power BI Pleno',\n",
       " 'Analista BI Pleno - Power Center',\n",
       " 'Cientista de Dados',\n",
       " 'Cientista de Dados ( Estatístico )',\n",
       " 'CIENTISTA DE DADOS SENIOR',\n",
       " 'Engenheiro de Dados',\n",
       " 'Cientista de Dados Sênior - Jundiai',\n",
       " 'Cientista de Dados ( Junior , Pleno e Sênior )',\n",
       " 'Analista de Governança de dados']"
      ]
     },
     "execution_count": 10,
     "metadata": {},
     "output_type": "execute_result"
    }
   ],
   "source": [
    "df[df.Empresa == 'Inovation IT Premium Outsourcing'].Titulo.to_list()"
   ]
  },
  {
   "cell_type": "markdown",
   "metadata": {},
   "source": [
    "Estão oferecendo mais vagas para **Cientistas de dados** e **Analistas de dados**."
   ]
  },
  {
   "cell_type": "markdown",
   "metadata": {},
   "source": [
    "Podemos plotar os dados relacionados às Empresas com as respectivas quantidades de vagas com um `barplot`."
   ]
  },
  {
   "cell_type": "code",
   "execution_count": 11,
   "metadata": {},
   "outputs": [
    {
     "data": {
      "image/png": "[encoded data removed]",
      "text/plain": [
       "<Figure size 864x432 with 1 Axes>"
      ]
     },
     "metadata": {
      "needs_background": "light"
     },
     "output_type": "display_data"
    }
   ],
   "source": [
    "# definindo o tamanho\n",
    "plt.figure(figsize=(12, 6))\n",
    "\n",
    "# criando a visualização\n",
    "sns.barplot(x = grupo_emp.head(20).index, y=grupo_emp.head(20).values, color='dodgerblue')\n",
    "\n",
    "# inserindo o título\n",
    "plt.title('Quantidade de vagas por Empresa')\n",
    "\n",
    "# ajustando o eixo x\n",
    "plt.xticks(rotation=30, horizontalalignment='right');"
   ]
  },
  {
   "cell_type": "markdown",
   "metadata": {},
   "source": [
    "### 4. Qual é a média salarial anunciadas nas vagas?"
   ]
  },
  {
   "cell_type": "markdown",
   "metadata": {},
   "source": [
    "Vamos usar um `value_counts()` para ver como os valores estão dispostos.<br>\n",
    "Podemos notar que poucas empresas colocaram o *salario* ou *faixa salarial* nos anúncios."
   ]
  },
  {
   "cell_type": "code",
   "execution_count": 12,
   "metadata": {},
   "outputs": [
    {
     "data": {
      "text/plain": [
       "None                           573\n",
       "R$ 4.350 por mês                 2\n",
       "R$ 4.500 - R$ 6.000 por mês      2\n",
       "R$ 159.604 por ano               1\n",
       "R$ 2.875 por mês                 1\n",
       "R$ 2.300 por mês                 1\n",
       "R$ 1.500 - R$ 2.500 por mês      1\n",
       "R$ 2.000 - R$ 3.000 por mês      1\n",
       "R$ 6.000 por mês                 1\n",
       "R$ 8.000 por mês                 1\n",
       "R$ 1.000 por mês                 1\n",
       "R$ 2.700 por mês                 1\n",
       "R$ 2.500 - R$ 3.000 por mês      1\n",
       "R$ 3.500 - R$ 4.000 por mês      1\n",
       "R$ 10.674 por ano                1\n",
       "R$ 3.000 - R$ 4.000 por mês      1\n",
       "R$ 4.000 - R$ 4.500 por mês      1\n",
       "R$ 7.860 por ano                 1\n",
       "R$ 4.500 por mês                 1\n",
       "R$ 7.000 - R$ 9.000 por mês      1\n",
       "R$ 3.000 por mês                 1\n",
       "Name: Salario, dtype: int64"
      ]
     },
     "execution_count": 12,
     "metadata": {},
     "output_type": "execute_result"
    }
   ],
   "source": [
    "# verificar o ranking da coluna \"Salario\"\n",
    "df.Salario.value_counts()"
   ]
  },
  {
   "cell_type": "markdown",
   "metadata": {},
   "source": [
    "Para sabermos a média, precisamos fazer uma transformação na coluna *Salario*. Então, vamos fazer o seguinte:<br>\n",
    "Criaremos uma função para esta transformação, com os seguintes passos:\n",
    "- Faremos uma cópia do dataframe original, caso algo dê errado, podemos retomar daqui, utilizando o método `copy()`;\n",
    "- Remover os caracteres, mantendo somente os números e quando for uma faixa, manteremos o \"-\", utilizando o método `replace()`;\n",
    "- Como vimos que poucos anúncios contém salário, vamos filtrar somente essas linhas;\n",
    "- Vamos utilizar o método `split()` e criaremos duas colunas, separando por \"-\", uma coluna para para especificar o mínimo salário da faixa e outro para especificar o máximo salário da faixa;\n",
    "- A coluna \"Salario\", original do dataframe, vamos renomear para \"Faixa_Salarial\";\n",
    "- Vamos criar uma coluna única, nomeada como \"Salario\", com a seguinte condição, onde a coluna \"Salario_max\" for igual a 0 (quer dizer que não é uma faixa e sim o salário da vaga, que está em outra coluna, \"Salario_min\") usa esse valor, caso for diferente de 0, faz a média das colunas \"Salario_min\" e Salario_max\";\n",
    "- Por fim, removeremos as colunas \"Salario_max\" e \"Salario_min\" e retorna o dataframe."
   ]
  },
  {
   "cell_type": "code",
   "execution_count": 13,
   "metadata": {},
   "outputs": [],
   "source": [
    "def salary_transf():\n",
    "    \n",
    "    # criando uma cópia do dataframe\n",
    "    df1 = df.copy()\n",
    "    \n",
    "    # removendo as pontuações e palavras que não agregarão\n",
    "    df1['Salario'] = df.Salario.str.replace('[None|.|R$| por mês ano]','', regex=True)\n",
    "    \n",
    "    # filtrando somente as vagas que publicou o salario ou faixa salarial\n",
    "    df1 = df1[df1['Salario'] != '']\n",
    "    \n",
    "    # separando os valores com faixa salarial em duas colunas\n",
    "    df1['Salario_min'] = df1.loc[:, 'Salario'].str.split('-', expand=True)[0].astype(int)\n",
    "    df1['Salario_max'] = df1.loc[:, 'Salario'].str.split('-', expand=True)[1].fillna(0).astype(int)\n",
    "    \n",
    "    # renomeando a coluna salario para faixa salarial\n",
    "    df1 = df1.rename(columns={'Salario': 'Faixa_Salarial'})\n",
    "    \n",
    "    # criando uma nova coluna para salario com a condição, com valor unico\n",
    "    df1['Salario'] = np.where(df1['Salario_max'] != 0, df1[['Salario_min', 'Salario_max']].mean(axis=1), df1['Salario_min'])\n",
    "    \n",
    "    # removendo as duas colunas que usamos para separar a faixa salarial\n",
    "    df1.drop(['Salario_min', 'Salario_max'], axis=1, inplace=True)\n",
    "    \n",
    "    return df1\n",
    "    \n",
    "# executando a função\n",
    "df1 = salary_transf()"
   ]
  },
  {
   "cell_type": "markdown",
   "metadata": {},
   "source": [
    "Agora poderemos responder nossa questão. Vamos fazer um agrupamento por \"Título\", utilizado o método `groupby()` para obtermos média."
   ]
  },
  {
   "cell_type": "code",
   "execution_count": 14,
   "metadata": {},
   "outputs": [
    {
     "data": {
      "text/plain": [
       "Titulo\n",
       "Technical Systems Analyst                                       159604.000000\n",
       "Northern Powerhouse Business Specialist - DIT Rio de Janeiro     10674.000000\n",
       "Senior Business Analyst                                           8000.000000\n",
       "Cientista de Dados                                                8000.000000\n",
       "Northeast Business Development Manager                            7860.000000\n",
       "Engenheiro(a) de Dados / Desenvolvedor(a) Web Analytics           6000.000000\n",
       "Data Scientist Pleno                                              5250.000000\n",
       "Analista de Sistemas - Centro                                     4500.000000\n",
       "Analista de Dados Pleno                                           4350.000000\n",
       "Analista de Dados Junior                                          3500.000000\n",
       "Analista de Business Intelligence                                 3333.333333\n",
       "Programador Web (Full Stack)                                      3000.000000\n",
       "Analista de Logística Jr                                          2875.000000\n",
       "Analista de Dados                                                 2750.000000\n",
       "Analista de Infraestrutura de TI                                  2700.000000\n",
       "Inside Sales                                                      2500.000000\n",
       "Analista de Qualidade                                             2300.000000\n",
       "Estagiário(a) em Business Intelligence e Infraestrutura           1000.000000\n",
       "Name: Salario, dtype: float64"
      ]
     },
     "execution_count": 14,
     "metadata": {},
     "output_type": "execute_result"
    }
   ],
   "source": [
    "# Analisando as médias de Salários por Título e ordenando do maior para o menor\n",
    "df1.groupby(['Titulo'])['Salario'].mean().sort_values(ascending=False)"
   ]
  },
  {
   "cell_type": "markdown",
   "metadata": {},
   "source": [
    "**Opa! Tem um valor muito discrepante dos demais**.<br>\n",
    "Se observarmos antes de aplicar a transformação, temos 3 valores que estão \"por ano\" porém somente um parece fazer mais sentido, então estamos supondo que os outros foram erros de digitação e vamos considerar como \"por mês\".\n",
    "\n",
    "Para esse valor discrepante vamos dividir por 12 para termos o valor mensal oferecido para vaga.<br>\n",
    "Vamos deixar a `função mais genérica` e colocar uma condição para qualquer valor acima de 100.000 para fazer a divisão."
   ]
  },
  {
   "cell_type": "code",
   "execution_count": 15,
   "metadata": {},
   "outputs": [],
   "source": [
    "# convertendo o salario anual em mensal\n",
    "df1.loc[df1.Salario > 100000, 'Salario'] = df1[df1.Salario > 100000]['Salario'] / 12"
   ]
  },
  {
   "cell_type": "markdown",
   "metadata": {},
   "source": [
    "Vamos dar uma conferida para ver o resultado?!"
   ]
  },
  {
   "cell_type": "code",
   "execution_count": 16,
   "metadata": {},
   "outputs": [
    {
     "data": {
      "text/plain": [
       "Titulo\n",
       "Technical Systems Analyst                                       13300.333333\n",
       "Northern Powerhouse Business Specialist - DIT Rio de Janeiro    10674.000000\n",
       "Senior Business Analyst                                          8000.000000\n",
       "Cientista de Dados                                               8000.000000\n",
       "Northeast Business Development Manager                           7860.000000\n",
       "Engenheiro(a) de Dados / Desenvolvedor(a) Web Analytics          6000.000000\n",
       "Data Scientist Pleno                                             5250.000000\n",
       "Analista de Sistemas - Centro                                    4500.000000\n",
       "Analista de Dados Pleno                                          4350.000000\n",
       "Analista de Dados Junior                                         3500.000000\n",
       "Analista de Business Intelligence                                3333.333333\n",
       "Programador Web (Full Stack)                                     3000.000000\n",
       "Analista de Logística Jr                                         2875.000000\n",
       "Analista de Dados                                                2750.000000\n",
       "Analista de Infraestrutura de TI                                 2700.000000\n",
       "Inside Sales                                                     2500.000000\n",
       "Analista de Qualidade                                            2300.000000\n",
       "Estagiário(a) em Business Intelligence e Infraestrutura          1000.000000\n",
       "Name: Salario, dtype: float64"
      ]
     },
     "execution_count": 16,
     "metadata": {},
     "output_type": "execute_result"
    }
   ],
   "source": [
    "# Analisando as médias de Salários por Título e ordenando do maior para o menor\n",
    "df1.groupby(['Titulo'])['Salario'].mean().sort_values(ascending=False)"
   ]
  },
  {
   "cell_type": "markdown",
   "metadata": {},
   "source": [
    "Mesmo assim a vaga continuou sendo o salário mais alto oferecido, mas agora está mais justo.\n",
    "\n",
    "Vamos dar uma olhada na distribuição com um `histograma`."
   ]
  },
  {
   "cell_type": "code",
   "execution_count": 17,
   "metadata": {},
   "outputs": [
    {
     "data": {
      "image/png": "[encoded data removed]",
      "text/plain": [
       "<Figure size 864x432 with 1 Axes>"
      ]
     },
     "metadata": {
      "needs_background": "light"
     },
     "output_type": "display_data"
    }
   ],
   "source": [
    "# definindo o tamanho\n",
    "plt.figure(figsize=(12, 6))\n",
    "\n",
    "# criando a visualização\n",
    "sns.distplot(df1.Salario, bins=15, color='dodgerblue')\n",
    "\n",
    "# inserindo o título\n",
    "plt.title('Distribuição dos Salários');"
   ]
  },
  {
   "cell_type": "markdown",
   "metadata": {},
   "source": [
    "Graficamente podemos observar que tem alguns `outliers` e que está um pouco deslocada e podemos comprovar isso com o método `skew`, que estatisticamente mostra o valor de `assimetria` da curva."
   ]
  },
  {
   "cell_type": "code",
   "execution_count": 18,
   "metadata": {},
   "outputs": [
    {
     "data": {
      "text/plain": [
       "1.3489559048831272"
      ]
     },
     "execution_count": 18,
     "metadata": {},
     "output_type": "execute_result"
    }
   ],
   "source": [
    "df1.Salario.skew()"
   ]
  },
  {
   "cell_type": "markdown",
   "metadata": {},
   "source": [
    "Para se aproximar de uma `normal` o valor tem de resultar em torno de `0`."
   ]
  },
  {
   "cell_type": "markdown",
   "metadata": {},
   "source": [
    "### 5. Qual localidade tem o maior número de vagas listadas?"
   ]
  },
  {
   "cell_type": "markdown",
   "metadata": {},
   "source": [
    "Vamos verificar fazendo um agrupamento por **localidade**, com o método `groupby()`."
   ]
  },
  {
   "cell_type": "code",
   "execution_count": 19,
   "metadata": {},
   "outputs": [
    {
     "data": {
      "text/plain": [
       "Localidade\n",
       "São Paulo, SP         206\n",
       "Rio de Janeiro, RJ     64\n",
       "Brasil                 37\n",
       "Porto Alegre, RS       29\n",
       "Campinas, SP           26\n",
       "                     ... \n",
       "Itapevi, SP             1\n",
       "Itajaí, SC              1\n",
       "Guaíba, RS              1\n",
       "Exterior                1\n",
       "Alphaville, SP          1\n",
       "Name: Titulo, Length: 85, dtype: int64"
      ]
     },
     "execution_count": 19,
     "metadata": {},
     "output_type": "execute_result"
    }
   ],
   "source": [
    "# criando o objeto para agrupamento\n",
    "grupo_local = df.groupby(['Localidade']).count()['Titulo'].sort_values(ascending=False)\n",
    "\n",
    "# visualizando o agrupamento\n",
    "grupo_local"
   ]
  },
  {
   "cell_type": "markdown",
   "metadata": {},
   "source": [
    "A cidade de **São Paulo** tem o maior número de vagas em *Data Science*."
   ]
  },
  {
   "cell_type": "markdown",
   "metadata": {},
   "source": [
    "Da mesma forma que fizemos anteriormente, vamos plotar esse grupo também, mas somente os **20 primeiros**."
   ]
  },
  {
   "cell_type": "code",
   "execution_count": 20,
   "metadata": {},
   "outputs": [
    {
     "data": {
      "image/png": "[encoded data removed]",
      "text/plain": [
       "<Figure size 864x432 with 1 Axes>"
      ]
     },
     "metadata": {
      "needs_background": "light"
     },
     "output_type": "display_data"
    }
   ],
   "source": [
    "# definindo o tamanho\n",
    "plt.figure(figsize=(12, 6))\n",
    "\n",
    "# criando a visualização\n",
    "sns.barplot(x = grupo_local.head(20).index, y=grupo_local.head(20).values, color='dodgerblue')\n",
    "\n",
    "# inserindo o título\n",
    "plt.title('Quantidade de vagas por Localidade')\n",
    "\n",
    "# ajustando o eixo x\n",
    "plt.xticks(rotation=30, horizontalalignment='right');"
   ]
  },
  {
   "cell_type": "markdown",
   "metadata": {},
   "source": [
    "### 6. Quais os skills mais comuns nas descrições das vagas?"
   ]
  },
  {
   "cell_type": "markdown",
   "metadata": {},
   "source": [
    "Para responder essa pergunta vamos aplicar o `Processamento de Linguagem Natual` na coluna descrição da vaga, para extrair alguns insights."
   ]
  },
  {
   "cell_type": "markdown",
   "metadata": {},
   "source": [
    "Vamos começar criando uma função para **limpeza dos dados**, para remoção das *stopwords* e mantendo somente caracteres *não-numéricos*.<br>\n",
    "Essa função consiste no uso dos seguintes métodos e funções:\n",
    "- `word_tokenize`, que cria a *tokenização*, separando cada termo da sentença;\n",
    "- `isalpha()` retorna `True` se o caractere for *não-numérico*."
   ]
  },
  {
   "cell_type": "code",
   "execution_count": 21,
   "metadata": {},
   "outputs": [],
   "source": [
    "# criando a função para limpeza dos dados\n",
    "def limpa_dados(desc):\n",
    "    \n",
    "    # fazendo a tokenização\n",
    "    desc = word_tokenize(desc)\n",
    "    \n",
    "    # padronizando os caractareres dos termos em minusculos caso for não-numérico e maior que 2\n",
    "    desc = [word.lower() for word in desc if word.isalpha() and len(word) > 2]\n",
    "    \n",
    "    # removendo as stopwords em portugues\n",
    "    desc = [word for word in desc if word not in stop_words_pt]\n",
    "    \n",
    "    # removendo as stopwords em ingles\n",
    "    desc = [word for word in desc if word not in stop_words_en]\n",
    "    \n",
    "    # retornando o resultado\n",
    "    return desc"
   ]
  },
  {
   "cell_type": "markdown",
   "metadata": {},
   "source": [
    "Agora vamos criar os objetos das `stopwords`, nos idiomas português e inglês,  que são palavras que não agregam valor para as análises, para posteriormente removermos da nossa base."
   ]
  },
  {
   "cell_type": "code",
   "execution_count": 22,
   "metadata": {},
   "outputs": [],
   "source": [
    "# definindo a lista de stopwords em português\n",
    "stop_words_pt = stopwords.words('portuguese')\n",
    "\n",
    "# definindo a lista de stopwords em inglês\n",
    "stop_words_en = stopwords.words('english')"
   ]
  },
  {
   "cell_type": "markdown",
   "metadata": {},
   "source": [
    "Aplicando a função que acabamos de criar, vamos colocar o texto limpo em uma outra coluna para comparação."
   ]
  },
  {
   "cell_type": "code",
   "execution_count": 23,
   "metadata": {},
   "outputs": [],
   "source": [
    "# Aplicando a função de limpeza a coluna de descrição da vaga\n",
    "df['Desc_limpo'] = df['Desc'].apply(limpa_dados)"
   ]
  },
  {
   "cell_type": "markdown",
   "metadata": {},
   "source": [
    "Vamos verificar o resultado colocando as duas colunas lado a lado."
   ]
  },
  {
   "cell_type": "code",
   "execution_count": 24,
   "metadata": {},
   "outputs": [
    {
     "data": {
      "text/html": [
       "<div>\n",
       "<style scoped>\n",
       "    .dataframe tbody tr th:only-of-type {\n",
       "        vertical-align: middle;\n",
       "    }\n",
       "\n",
       "    .dataframe tbody tr th {\n",
       "        vertical-align: top;\n",
       "    }\n",
       "\n",
       "    .dataframe thead th {\n",
       "        text-align: right;\n",
       "    }\n",
       "</style>\n",
       "<table border=\"1\" class=\"dataframe\">\n",
       "  <thead>\n",
       "    <tr style=\"text-align: right;\">\n",
       "      <th></th>\n",
       "      <th>Desc</th>\n",
       "      <th>Desc_limpo</th>\n",
       "    </tr>\n",
       "  </thead>\n",
       "  <tbody>\n",
       "    <tr>\n",
       "      <th>0</th>\n",
       "      <td>Atlantis Clinical is an American niche Clinica...</td>\n",
       "      <td>[atlantis, clinical, american, niche, clinical...</td>\n",
       "    </tr>\n",
       "    <tr>\n",
       "      <th>1</th>\n",
       "      <td>Bloomberg runs on data. In Global Data, we're ...</td>\n",
       "      <td>[bloomberg, runs, data, global, data, responsi...</td>\n",
       "    </tr>\n",
       "    <tr>\n",
       "      <th>2</th>\n",
       "      <td>O time de Data Engineering é responsável por g...</td>\n",
       "      <td>[time, data, engineering, responsável, garanti...</td>\n",
       "    </tr>\n",
       "    <tr>\n",
       "      <th>3</th>\n",
       "      <td>About Syngenta\\n\\nSyngenta is a leading compan...</td>\n",
       "      <td>[syngenta, syngenta, leading, company, agricul...</td>\n",
       "    </tr>\n",
       "    <tr>\n",
       "      <th>4</th>\n",
       "      <td>Arquiteto de dados para atuar na modelagem de ...</td>\n",
       "      <td>[arquiteto, dados, atuar, modelagem, informaçõ...</td>\n",
       "    </tr>\n",
       "  </tbody>\n",
       "</table>\n",
       "</div>"
      ],
      "text/plain": [
       "                                                Desc  \\\n",
       "0  Atlantis Clinical is an American niche Clinica...   \n",
       "1  Bloomberg runs on data. In Global Data, we're ...   \n",
       "2  O time de Data Engineering é responsável por g...   \n",
       "3  About Syngenta\\n\\nSyngenta is a leading compan...   \n",
       "4  Arquiteto de dados para atuar na modelagem de ...   \n",
       "\n",
       "                                          Desc_limpo  \n",
       "0  [atlantis, clinical, american, niche, clinical...  \n",
       "1  [bloomberg, runs, data, global, data, responsi...  \n",
       "2  [time, data, engineering, responsável, garanti...  \n",
       "3  [syngenta, syngenta, leading, company, agricul...  \n",
       "4  [arquiteto, dados, atuar, modelagem, informaçõ...  "
      ]
     },
     "execution_count": 24,
     "metadata": {},
     "output_type": "execute_result"
    }
   ],
   "source": [
    "# analisando as duas colunas (primeiras linhas)\n",
    "df[['Desc', 'Desc_limpo']].head()"
   ]
  },
  {
   "cell_type": "markdown",
   "metadata": {},
   "source": [
    "Agora podemos sumarizar as descrições, fazendo uma contagem dos termos com `Counter`, este método cria um dicionário com o termo e sua respectiva contagem."
   ]
  },
  {
   "cell_type": "code",
   "execution_count": 25,
   "metadata": {},
   "outputs": [
    {
     "data": {
      "text/plain": [
       "dados              1723\n",
       "data                934\n",
       "experiência         878\n",
       "conhecimento        725\n",
       "experience          533\n",
       "business            443\n",
       "desenvolvimento     402\n",
       "work                377\n",
       "learning            375\n",
       "requisitos          371\n",
       "time                353\n",
       "ferramentas         339\n",
       "informações         333\n",
       "empresa             328\n",
       "análise             324\n",
       "processos           308\n",
       "skills              301\n",
       "projetos            290\n",
       "sql                 287\n",
       "área                283\n",
       "dtype: int64"
      ]
     },
     "execution_count": 25,
     "metadata": {},
     "output_type": "execute_result"
    }
   ],
   "source": [
    "# sumarizando as descrições\n",
    "desc_itens = df.Desc_limpo.apply(Counter).sum().items()\n",
    "\n",
    "# ordenando o resultado\n",
    "desc_itens = sorted(desc_itens, key = lambda kv: kv[1], reverse = True)\n",
    "\n",
    "# criando uma serie do resultado\n",
    "desc_itens_serie = pd.Series({k: v for k, v in desc_itens})\n",
    "\n",
    "# Visualizando os 20 primeiros dados, com a contagem de palavras mais frequentes nas descrições das vagas\n",
    "desc_itens_serie.head(20)"
   ]
  },
  {
   "cell_type": "markdown",
   "metadata": {},
   "source": [
    "Agora vamos criar uma lista de *skills* e pesquisar como eles aparecem nas descrições das vagas.<br>\n",
    "Vamos utilizar as palavras em minusculos, pois padronizamos dessa forma no dataframe, quando \"limpamos\"."
   ]
  },
  {
   "cell_type": "code",
   "execution_count": 26,
   "metadata": {},
   "outputs": [],
   "source": [
    "# definindo a lista\n",
    "skills = [\"python\", \"statistics\", \"analytics\", \"business\", \"projects\", \"develop\"]\n",
    "\n",
    "# filtrando a serie com os skills\n",
    "filtro_skills = desc_itens_serie.filter(items = skills)"
   ]
  },
  {
   "cell_type": "markdown",
   "metadata": {},
   "source": [
    "Agora vamos plotar com um `barplot`."
   ]
  },
  {
   "cell_type": "code",
   "execution_count": 27,
   "metadata": {},
   "outputs": [
    {
     "data": {
      "image/png": "[encoded data removed]",
      "text/plain": [
       "<Figure size 864x432 with 1 Axes>"
      ]
     },
     "metadata": {
      "needs_background": "light"
     },
     "output_type": "display_data"
    }
   ],
   "source": [
    "# definindo o tamanho\n",
    "plt.figure(figsize=(12, 6))\n",
    "\n",
    "# criando a visualização\n",
    "sns.barplot(x = filtro_skills.index, y=filtro_skills.values, color='dodgerblue')\n",
    "\n",
    "# inserindo o título\n",
    "plt.title('Skills solicitados nas vagas')\n",
    "\n",
    "# ajustando o eixo x\n",
    "plt.xticks(rotation=30, horizontalalignment='right');"
   ]
  },
  {
   "cell_type": "markdown",
   "metadata": {},
   "source": [
    "A palavra \"Business\" aparece com mais frequencia."
   ]
  },
  {
   "cell_type": "code",
   "execution_count": null,
   "metadata": {},
   "outputs": [],
   "source": []
  }
 ],
 "metadata": {
  "kernelspec": {
   "display_name": "Python 3",
   "language": "python",
   "name": "python3"
  },
  "language_info": {
   "codemirror_mode": {
    "name": "ipython",
    "version": 3
   },
   "file_extension": ".py",
   "mimetype": "text/x-python",
   "name": "python",
   "nbconvert_exporter": "python",
   "pygments_lexer": "ipython3",
   "version": "3.7.6"
  }
 },
 "nbformat": 4,
 "nbformat_minor": 4
}
